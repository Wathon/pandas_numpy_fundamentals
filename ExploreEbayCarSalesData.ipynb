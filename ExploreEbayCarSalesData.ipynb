{
 "cells": [
  {
   "cell_type": "markdown",
   "metadata": {},
   "source": [
    "### Explore and Analyse used car sales on Ebay Kleinanzeigen\n",
    "\n",
    "The dataset comprises of used car sales information from **eBay Kleinanzeigen**, a classifieds section of the German eBay website. The dataset was scraped, cleaned and uploaded to Kaggle originally, which was then modified and dirtied for the guided project practice.\n",
    "\n",
    "The dataset comprises of 50000 rows and 20 columns.\n",
    "\n",
    "*The aim of this project is to clean and analyze the used car listings. To familiarize with some of the unique benefits jupyter notebook provides for pandas. In addition, working on dataset will help in better understanding of numpy and pandas libraries.*"
   ]
  },
  {
   "cell_type": "markdown",
   "metadata": {},
   "source": [
    "### *Section 1 - Import Liabraries, create dataframe from csv, display info of dataframe*"
   ]
  },
  {
   "cell_type": "code",
   "execution_count": 2,
   "metadata": {},
   "outputs": [],
   "source": [
    "import numpy as np\n",
    "import pandas as pd\n",
    "\n",
    "autos = pd.read_csv(\"autos.csv\", encoding=\"Latin-1\")\n",
    "\n",
    "# suppress scientific notation of values\n",
    "pd.options.display.float_format = '{:.4f}'.format"
   ]
  },
  {
   "cell_type": "code",
   "execution_count": 3,
   "metadata": {},
   "outputs": [
    {
     "name": "stdout",
     "output_type": "stream",
     "text": [
      "<class 'pandas.core.frame.DataFrame'>\n",
      "RangeIndex: 50000 entries, 0 to 49999\n",
      "Data columns (total 20 columns):\n",
      "dateCrawled            50000 non-null object\n",
      "name                   50000 non-null object\n",
      "seller                 50000 non-null object\n",
      "offerType              50000 non-null object\n",
      "price                  50000 non-null object\n",
      "abtest                 50000 non-null object\n",
      "vehicleType            44905 non-null object\n",
      "yearOfRegistration     50000 non-null int64\n",
      "gearbox                47320 non-null object\n",
      "powerPS                50000 non-null int64\n",
      "model                  47242 non-null object\n",
      "odometer               50000 non-null object\n",
      "monthOfRegistration    50000 non-null int64\n",
      "fuelType               45518 non-null object\n",
      "brand                  50000 non-null object\n",
      "notRepairedDamage      40171 non-null object\n",
      "dateCreated            50000 non-null object\n",
      "nrOfPictures           50000 non-null int64\n",
      "postalCode             50000 non-null int64\n",
      "lastSeen               50000 non-null object\n",
      "dtypes: int64(5), object(15)\n",
      "memory usage: 7.6+ MB\n"
     ]
    },
    {
     "data": {
      "text/html": [
       "<div>\n",
       "<style scoped>\n",
       "    .dataframe tbody tr th:only-of-type {\n",
       "        vertical-align: middle;\n",
       "    }\n",
       "\n",
       "    .dataframe tbody tr th {\n",
       "        vertical-align: top;\n",
       "    }\n",
       "\n",
       "    .dataframe thead th {\n",
       "        text-align: right;\n",
       "    }\n",
       "</style>\n",
       "<table border=\"1\" class=\"dataframe\">\n",
       "  <thead>\n",
       "    <tr style=\"text-align: right;\">\n",
       "      <th></th>\n",
       "      <th>dateCrawled</th>\n",
       "      <th>name</th>\n",
       "      <th>seller</th>\n",
       "      <th>offerType</th>\n",
       "      <th>price</th>\n",
       "      <th>abtest</th>\n",
       "      <th>vehicleType</th>\n",
       "      <th>yearOfRegistration</th>\n",
       "      <th>gearbox</th>\n",
       "      <th>powerPS</th>\n",
       "      <th>model</th>\n",
       "      <th>odometer</th>\n",
       "      <th>monthOfRegistration</th>\n",
       "      <th>fuelType</th>\n",
       "      <th>brand</th>\n",
       "      <th>notRepairedDamage</th>\n",
       "      <th>dateCreated</th>\n",
       "      <th>nrOfPictures</th>\n",
       "      <th>postalCode</th>\n",
       "      <th>lastSeen</th>\n",
       "    </tr>\n",
       "  </thead>\n",
       "  <tbody>\n",
       "    <tr>\n",
       "      <td>0</td>\n",
       "      <td>2016-03-26 17:47:46</td>\n",
       "      <td>Peugeot_807_160_NAVTECH_ON_BOARD</td>\n",
       "      <td>privat</td>\n",
       "      <td>Angebot</td>\n",
       "      <td>$5,000</td>\n",
       "      <td>control</td>\n",
       "      <td>bus</td>\n",
       "      <td>2004</td>\n",
       "      <td>manuell</td>\n",
       "      <td>158</td>\n",
       "      <td>andere</td>\n",
       "      <td>150,000km</td>\n",
       "      <td>3</td>\n",
       "      <td>lpg</td>\n",
       "      <td>peugeot</td>\n",
       "      <td>nein</td>\n",
       "      <td>2016-03-26 00:00:00</td>\n",
       "      <td>0</td>\n",
       "      <td>79588</td>\n",
       "      <td>2016-04-06 06:45:54</td>\n",
       "    </tr>\n",
       "    <tr>\n",
       "      <td>1</td>\n",
       "      <td>2016-04-04 13:38:56</td>\n",
       "      <td>BMW_740i_4_4_Liter_HAMANN_UMBAU_Mega_Optik</td>\n",
       "      <td>privat</td>\n",
       "      <td>Angebot</td>\n",
       "      <td>$8,500</td>\n",
       "      <td>control</td>\n",
       "      <td>limousine</td>\n",
       "      <td>1997</td>\n",
       "      <td>automatik</td>\n",
       "      <td>286</td>\n",
       "      <td>7er</td>\n",
       "      <td>150,000km</td>\n",
       "      <td>6</td>\n",
       "      <td>benzin</td>\n",
       "      <td>bmw</td>\n",
       "      <td>nein</td>\n",
       "      <td>2016-04-04 00:00:00</td>\n",
       "      <td>0</td>\n",
       "      <td>71034</td>\n",
       "      <td>2016-04-06 14:45:08</td>\n",
       "    </tr>\n",
       "    <tr>\n",
       "      <td>2</td>\n",
       "      <td>2016-03-26 18:57:24</td>\n",
       "      <td>Volkswagen_Golf_1.6_United</td>\n",
       "      <td>privat</td>\n",
       "      <td>Angebot</td>\n",
       "      <td>$8,990</td>\n",
       "      <td>test</td>\n",
       "      <td>limousine</td>\n",
       "      <td>2009</td>\n",
       "      <td>manuell</td>\n",
       "      <td>102</td>\n",
       "      <td>golf</td>\n",
       "      <td>70,000km</td>\n",
       "      <td>7</td>\n",
       "      <td>benzin</td>\n",
       "      <td>volkswagen</td>\n",
       "      <td>nein</td>\n",
       "      <td>2016-03-26 00:00:00</td>\n",
       "      <td>0</td>\n",
       "      <td>35394</td>\n",
       "      <td>2016-04-06 20:15:37</td>\n",
       "    </tr>\n",
       "    <tr>\n",
       "      <td>3</td>\n",
       "      <td>2016-03-12 16:58:10</td>\n",
       "      <td>Smart_smart_fortwo_coupe_softouch/F1/Klima/Pan...</td>\n",
       "      <td>privat</td>\n",
       "      <td>Angebot</td>\n",
       "      <td>$4,350</td>\n",
       "      <td>control</td>\n",
       "      <td>kleinwagen</td>\n",
       "      <td>2007</td>\n",
       "      <td>automatik</td>\n",
       "      <td>71</td>\n",
       "      <td>fortwo</td>\n",
       "      <td>70,000km</td>\n",
       "      <td>6</td>\n",
       "      <td>benzin</td>\n",
       "      <td>smart</td>\n",
       "      <td>nein</td>\n",
       "      <td>2016-03-12 00:00:00</td>\n",
       "      <td>0</td>\n",
       "      <td>33729</td>\n",
       "      <td>2016-03-15 03:16:28</td>\n",
       "    </tr>\n",
       "    <tr>\n",
       "      <td>4</td>\n",
       "      <td>2016-04-01 14:38:50</td>\n",
       "      <td>Ford_Focus_1_6_Benzin_TÜV_neu_ist_sehr_gepfleg...</td>\n",
       "      <td>privat</td>\n",
       "      <td>Angebot</td>\n",
       "      <td>$1,350</td>\n",
       "      <td>test</td>\n",
       "      <td>kombi</td>\n",
       "      <td>2003</td>\n",
       "      <td>manuell</td>\n",
       "      <td>0</td>\n",
       "      <td>focus</td>\n",
       "      <td>150,000km</td>\n",
       "      <td>7</td>\n",
       "      <td>benzin</td>\n",
       "      <td>ford</td>\n",
       "      <td>nein</td>\n",
       "      <td>2016-04-01 00:00:00</td>\n",
       "      <td>0</td>\n",
       "      <td>39218</td>\n",
       "      <td>2016-04-01 14:38:50</td>\n",
       "    </tr>\n",
       "  </tbody>\n",
       "</table>\n",
       "</div>"
      ],
      "text/plain": [
       "           dateCrawled                                               name  \\\n",
       "0  2016-03-26 17:47:46                   Peugeot_807_160_NAVTECH_ON_BOARD   \n",
       "1  2016-04-04 13:38:56         BMW_740i_4_4_Liter_HAMANN_UMBAU_Mega_Optik   \n",
       "2  2016-03-26 18:57:24                         Volkswagen_Golf_1.6_United   \n",
       "3  2016-03-12 16:58:10  Smart_smart_fortwo_coupe_softouch/F1/Klima/Pan...   \n",
       "4  2016-04-01 14:38:50  Ford_Focus_1_6_Benzin_TÜV_neu_ist_sehr_gepfleg...   \n",
       "\n",
       "   seller offerType   price   abtest vehicleType  yearOfRegistration  \\\n",
       "0  privat   Angebot  $5,000  control         bus                2004   \n",
       "1  privat   Angebot  $8,500  control   limousine                1997   \n",
       "2  privat   Angebot  $8,990     test   limousine                2009   \n",
       "3  privat   Angebot  $4,350  control  kleinwagen                2007   \n",
       "4  privat   Angebot  $1,350     test       kombi                2003   \n",
       "\n",
       "     gearbox  powerPS   model   odometer  monthOfRegistration fuelType  \\\n",
       "0    manuell      158  andere  150,000km                    3      lpg   \n",
       "1  automatik      286     7er  150,000km                    6   benzin   \n",
       "2    manuell      102    golf   70,000km                    7   benzin   \n",
       "3  automatik       71  fortwo   70,000km                    6   benzin   \n",
       "4    manuell        0   focus  150,000km                    7   benzin   \n",
       "\n",
       "        brand notRepairedDamage          dateCreated  nrOfPictures  \\\n",
       "0     peugeot              nein  2016-03-26 00:00:00             0   \n",
       "1         bmw              nein  2016-04-04 00:00:00             0   \n",
       "2  volkswagen              nein  2016-03-26 00:00:00             0   \n",
       "3       smart              nein  2016-03-12 00:00:00             0   \n",
       "4        ford              nein  2016-04-01 00:00:00             0   \n",
       "\n",
       "   postalCode             lastSeen  \n",
       "0       79588  2016-04-06 06:45:54  \n",
       "1       71034  2016-04-06 14:45:08  \n",
       "2       35394  2016-04-06 20:15:37  \n",
       "3       33729  2016-03-15 03:16:28  \n",
       "4       39218  2016-04-01 14:38:50  "
      ]
     },
     "execution_count": 3,
     "metadata": {},
     "output_type": "execute_result"
    }
   ],
   "source": [
    "# autos dataset\n",
    "autos.info()\n",
    "autos.head()"
   ]
  },
  {
   "cell_type": "markdown",
   "metadata": {},
   "source": [
    "### Observations based on dataframe.info() function\n",
    "\n",
    "* There are total 20 columns in the dataset with 5 columns of int64 dtype and rest are of object dtype.\n",
    "* The column labels are not consistent in terms of case and have ambigous CamelCase.\n",
    "* Certain columns have null values as well although less as compared to non-null values present."
   ]
  },
  {
   "cell_type": "markdown",
   "metadata": {},
   "source": [
    "#### *Section 2 - Rename column names of the autos dataset, to be more readable and logical*"
   ]
  },
  {
   "cell_type": "code",
   "execution_count": 4,
   "metadata": {},
   "outputs": [
    {
     "name": "stdout",
     "output_type": "stream",
     "text": [
      "\u001b[1m new_names: \u001b[0m Index(['date_crawled', 'name', 'seller', 'offer_type', 'price', 'abtest',\n",
      "       'vehicle_type', 'registration_year', 'gearbox', 'power_ps', 'model',\n",
      "       'odometer', 'registration_month', 'fuel_type', 'brand',\n",
      "       'unrepaired_damage', 'ad_created', 'nr_of_pictures', 'postal_code',\n",
      "       'last_seen'],\n",
      "      dtype='object') \n",
      "\n"
     ]
    }
   ],
   "source": [
    "# assign array of column names of autos dataset\n",
    "updated_columns = ['date_crawled','name','seller','offer_type','price','abtest','vehicle_type','registration_year','gearbox','power_ps','model','odometer','registration_month','fuel_type','brand','unrepaired_damage','ad_created','nr_of_pictures','postal_code','last_seen']\n",
    "\n",
    "# update column names as specified for date related columns\n",
    "autos.columns = updated_columns\n",
    "\n",
    "# assign updated columns names to autos columns\n",
    "print(\"\\033[1m new_names: \\033[0m\", autos.columns, \"\\n\")"
   ]
  },
  {
   "cell_type": "markdown",
   "metadata": {},
   "source": [
    "### *Section 3 - Need for descriptive statistics of autos dataset*\n",
    "\n",
    "* Any columns that have mostly one value that are candidates to be dropped.\n",
    "* Any columns that need more investigation\n",
    "* Any examples of numeric data stored as text that needs to be cleaned."
   ]
  },
  {
   "cell_type": "code",
   "execution_count": 5,
   "metadata": {},
   "outputs": [
    {
     "data": {
      "text/html": [
       "<div>\n",
       "<style scoped>\n",
       "    .dataframe tbody tr th:only-of-type {\n",
       "        vertical-align: middle;\n",
       "    }\n",
       "\n",
       "    .dataframe tbody tr th {\n",
       "        vertical-align: top;\n",
       "    }\n",
       "\n",
       "    .dataframe thead th {\n",
       "        text-align: right;\n",
       "    }\n",
       "</style>\n",
       "<table border=\"1\" class=\"dataframe\">\n",
       "  <thead>\n",
       "    <tr style=\"text-align: right;\">\n",
       "      <th></th>\n",
       "      <th>date_crawled</th>\n",
       "      <th>name</th>\n",
       "      <th>seller</th>\n",
       "      <th>offer_type</th>\n",
       "      <th>price</th>\n",
       "      <th>abtest</th>\n",
       "      <th>vehicle_type</th>\n",
       "      <th>registration_year</th>\n",
       "      <th>gearbox</th>\n",
       "      <th>power_ps</th>\n",
       "      <th>model</th>\n",
       "      <th>odometer</th>\n",
       "      <th>registration_month</th>\n",
       "      <th>fuel_type</th>\n",
       "      <th>brand</th>\n",
       "      <th>unrepaired_damage</th>\n",
       "      <th>ad_created</th>\n",
       "      <th>nr_of_pictures</th>\n",
       "      <th>postal_code</th>\n",
       "      <th>last_seen</th>\n",
       "    </tr>\n",
       "  </thead>\n",
       "  <tbody>\n",
       "    <tr>\n",
       "      <td>count</td>\n",
       "      <td>50000</td>\n",
       "      <td>50000</td>\n",
       "      <td>50000</td>\n",
       "      <td>50000</td>\n",
       "      <td>50000</td>\n",
       "      <td>50000</td>\n",
       "      <td>44905</td>\n",
       "      <td>50000.0000</td>\n",
       "      <td>47320</td>\n",
       "      <td>50000.0000</td>\n",
       "      <td>47242</td>\n",
       "      <td>50000</td>\n",
       "      <td>50000.0000</td>\n",
       "      <td>45518</td>\n",
       "      <td>50000</td>\n",
       "      <td>40171</td>\n",
       "      <td>50000</td>\n",
       "      <td>50000.0000</td>\n",
       "      <td>50000.0000</td>\n",
       "      <td>50000</td>\n",
       "    </tr>\n",
       "    <tr>\n",
       "      <td>unique</td>\n",
       "      <td>48213</td>\n",
       "      <td>38754</td>\n",
       "      <td>2</td>\n",
       "      <td>2</td>\n",
       "      <td>2357</td>\n",
       "      <td>2</td>\n",
       "      <td>8</td>\n",
       "      <td>nan</td>\n",
       "      <td>2</td>\n",
       "      <td>nan</td>\n",
       "      <td>245</td>\n",
       "      <td>13</td>\n",
       "      <td>nan</td>\n",
       "      <td>7</td>\n",
       "      <td>40</td>\n",
       "      <td>2</td>\n",
       "      <td>76</td>\n",
       "      <td>nan</td>\n",
       "      <td>nan</td>\n",
       "      <td>39481</td>\n",
       "    </tr>\n",
       "    <tr>\n",
       "      <td>top</td>\n",
       "      <td>2016-03-19 17:36:18</td>\n",
       "      <td>Ford_Fiesta</td>\n",
       "      <td>privat</td>\n",
       "      <td>Angebot</td>\n",
       "      <td>$0</td>\n",
       "      <td>test</td>\n",
       "      <td>limousine</td>\n",
       "      <td>nan</td>\n",
       "      <td>manuell</td>\n",
       "      <td>nan</td>\n",
       "      <td>golf</td>\n",
       "      <td>150,000km</td>\n",
       "      <td>nan</td>\n",
       "      <td>benzin</td>\n",
       "      <td>volkswagen</td>\n",
       "      <td>nein</td>\n",
       "      <td>2016-04-03 00:00:00</td>\n",
       "      <td>nan</td>\n",
       "      <td>nan</td>\n",
       "      <td>2016-04-07 06:17:27</td>\n",
       "    </tr>\n",
       "    <tr>\n",
       "      <td>freq</td>\n",
       "      <td>3</td>\n",
       "      <td>78</td>\n",
       "      <td>49999</td>\n",
       "      <td>49999</td>\n",
       "      <td>1421</td>\n",
       "      <td>25756</td>\n",
       "      <td>12859</td>\n",
       "      <td>nan</td>\n",
       "      <td>36993</td>\n",
       "      <td>nan</td>\n",
       "      <td>4024</td>\n",
       "      <td>32424</td>\n",
       "      <td>nan</td>\n",
       "      <td>30107</td>\n",
       "      <td>10687</td>\n",
       "      <td>35232</td>\n",
       "      <td>1946</td>\n",
       "      <td>nan</td>\n",
       "      <td>nan</td>\n",
       "      <td>8</td>\n",
       "    </tr>\n",
       "    <tr>\n",
       "      <td>mean</td>\n",
       "      <td>NaN</td>\n",
       "      <td>NaN</td>\n",
       "      <td>NaN</td>\n",
       "      <td>NaN</td>\n",
       "      <td>NaN</td>\n",
       "      <td>NaN</td>\n",
       "      <td>NaN</td>\n",
       "      <td>2005.0733</td>\n",
       "      <td>NaN</td>\n",
       "      <td>116.3559</td>\n",
       "      <td>NaN</td>\n",
       "      <td>NaN</td>\n",
       "      <td>5.7234</td>\n",
       "      <td>NaN</td>\n",
       "      <td>NaN</td>\n",
       "      <td>NaN</td>\n",
       "      <td>NaN</td>\n",
       "      <td>0.0000</td>\n",
       "      <td>50813.6273</td>\n",
       "      <td>NaN</td>\n",
       "    </tr>\n",
       "    <tr>\n",
       "      <td>std</td>\n",
       "      <td>NaN</td>\n",
       "      <td>NaN</td>\n",
       "      <td>NaN</td>\n",
       "      <td>NaN</td>\n",
       "      <td>NaN</td>\n",
       "      <td>NaN</td>\n",
       "      <td>NaN</td>\n",
       "      <td>105.7128</td>\n",
       "      <td>NaN</td>\n",
       "      <td>209.2166</td>\n",
       "      <td>NaN</td>\n",
       "      <td>NaN</td>\n",
       "      <td>3.7120</td>\n",
       "      <td>NaN</td>\n",
       "      <td>NaN</td>\n",
       "      <td>NaN</td>\n",
       "      <td>NaN</td>\n",
       "      <td>0.0000</td>\n",
       "      <td>25779.7480</td>\n",
       "      <td>NaN</td>\n",
       "    </tr>\n",
       "    <tr>\n",
       "      <td>min</td>\n",
       "      <td>NaN</td>\n",
       "      <td>NaN</td>\n",
       "      <td>NaN</td>\n",
       "      <td>NaN</td>\n",
       "      <td>NaN</td>\n",
       "      <td>NaN</td>\n",
       "      <td>NaN</td>\n",
       "      <td>1000.0000</td>\n",
       "      <td>NaN</td>\n",
       "      <td>0.0000</td>\n",
       "      <td>NaN</td>\n",
       "      <td>NaN</td>\n",
       "      <td>0.0000</td>\n",
       "      <td>NaN</td>\n",
       "      <td>NaN</td>\n",
       "      <td>NaN</td>\n",
       "      <td>NaN</td>\n",
       "      <td>0.0000</td>\n",
       "      <td>1067.0000</td>\n",
       "      <td>NaN</td>\n",
       "    </tr>\n",
       "    <tr>\n",
       "      <td>25%</td>\n",
       "      <td>NaN</td>\n",
       "      <td>NaN</td>\n",
       "      <td>NaN</td>\n",
       "      <td>NaN</td>\n",
       "      <td>NaN</td>\n",
       "      <td>NaN</td>\n",
       "      <td>NaN</td>\n",
       "      <td>1999.0000</td>\n",
       "      <td>NaN</td>\n",
       "      <td>70.0000</td>\n",
       "      <td>NaN</td>\n",
       "      <td>NaN</td>\n",
       "      <td>3.0000</td>\n",
       "      <td>NaN</td>\n",
       "      <td>NaN</td>\n",
       "      <td>NaN</td>\n",
       "      <td>NaN</td>\n",
       "      <td>0.0000</td>\n",
       "      <td>30451.0000</td>\n",
       "      <td>NaN</td>\n",
       "    </tr>\n",
       "    <tr>\n",
       "      <td>50%</td>\n",
       "      <td>NaN</td>\n",
       "      <td>NaN</td>\n",
       "      <td>NaN</td>\n",
       "      <td>NaN</td>\n",
       "      <td>NaN</td>\n",
       "      <td>NaN</td>\n",
       "      <td>NaN</td>\n",
       "      <td>2003.0000</td>\n",
       "      <td>NaN</td>\n",
       "      <td>105.0000</td>\n",
       "      <td>NaN</td>\n",
       "      <td>NaN</td>\n",
       "      <td>6.0000</td>\n",
       "      <td>NaN</td>\n",
       "      <td>NaN</td>\n",
       "      <td>NaN</td>\n",
       "      <td>NaN</td>\n",
       "      <td>0.0000</td>\n",
       "      <td>49577.0000</td>\n",
       "      <td>NaN</td>\n",
       "    </tr>\n",
       "    <tr>\n",
       "      <td>75%</td>\n",
       "      <td>NaN</td>\n",
       "      <td>NaN</td>\n",
       "      <td>NaN</td>\n",
       "      <td>NaN</td>\n",
       "      <td>NaN</td>\n",
       "      <td>NaN</td>\n",
       "      <td>NaN</td>\n",
       "      <td>2008.0000</td>\n",
       "      <td>NaN</td>\n",
       "      <td>150.0000</td>\n",
       "      <td>NaN</td>\n",
       "      <td>NaN</td>\n",
       "      <td>9.0000</td>\n",
       "      <td>NaN</td>\n",
       "      <td>NaN</td>\n",
       "      <td>NaN</td>\n",
       "      <td>NaN</td>\n",
       "      <td>0.0000</td>\n",
       "      <td>71540.0000</td>\n",
       "      <td>NaN</td>\n",
       "    </tr>\n",
       "    <tr>\n",
       "      <td>max</td>\n",
       "      <td>NaN</td>\n",
       "      <td>NaN</td>\n",
       "      <td>NaN</td>\n",
       "      <td>NaN</td>\n",
       "      <td>NaN</td>\n",
       "      <td>NaN</td>\n",
       "      <td>NaN</td>\n",
       "      <td>9999.0000</td>\n",
       "      <td>NaN</td>\n",
       "      <td>17700.0000</td>\n",
       "      <td>NaN</td>\n",
       "      <td>NaN</td>\n",
       "      <td>12.0000</td>\n",
       "      <td>NaN</td>\n",
       "      <td>NaN</td>\n",
       "      <td>NaN</td>\n",
       "      <td>NaN</td>\n",
       "      <td>0.0000</td>\n",
       "      <td>99998.0000</td>\n",
       "      <td>NaN</td>\n",
       "    </tr>\n",
       "  </tbody>\n",
       "</table>\n",
       "</div>"
      ],
      "text/plain": [
       "               date_crawled         name  seller offer_type  price abtest  \\\n",
       "count                 50000        50000   50000      50000  50000  50000   \n",
       "unique                48213        38754       2          2   2357      2   \n",
       "top     2016-03-19 17:36:18  Ford_Fiesta  privat    Angebot     $0   test   \n",
       "freq                      3           78   49999      49999   1421  25756   \n",
       "mean                    NaN          NaN     NaN        NaN    NaN    NaN   \n",
       "std                     NaN          NaN     NaN        NaN    NaN    NaN   \n",
       "min                     NaN          NaN     NaN        NaN    NaN    NaN   \n",
       "25%                     NaN          NaN     NaN        NaN    NaN    NaN   \n",
       "50%                     NaN          NaN     NaN        NaN    NaN    NaN   \n",
       "75%                     NaN          NaN     NaN        NaN    NaN    NaN   \n",
       "max                     NaN          NaN     NaN        NaN    NaN    NaN   \n",
       "\n",
       "       vehicle_type  registration_year  gearbox   power_ps  model   odometer  \\\n",
       "count         44905         50000.0000    47320 50000.0000  47242      50000   \n",
       "unique            8                nan        2        nan    245         13   \n",
       "top       limousine                nan  manuell        nan   golf  150,000km   \n",
       "freq          12859                nan    36993        nan   4024      32424   \n",
       "mean            NaN          2005.0733      NaN   116.3559    NaN        NaN   \n",
       "std             NaN           105.7128      NaN   209.2166    NaN        NaN   \n",
       "min             NaN          1000.0000      NaN     0.0000    NaN        NaN   \n",
       "25%             NaN          1999.0000      NaN    70.0000    NaN        NaN   \n",
       "50%             NaN          2003.0000      NaN   105.0000    NaN        NaN   \n",
       "75%             NaN          2008.0000      NaN   150.0000    NaN        NaN   \n",
       "max             NaN          9999.0000      NaN 17700.0000    NaN        NaN   \n",
       "\n",
       "        registration_month fuel_type       brand unrepaired_damage  \\\n",
       "count           50000.0000     45518       50000             40171   \n",
       "unique                 nan         7          40                 2   \n",
       "top                    nan    benzin  volkswagen              nein   \n",
       "freq                   nan     30107       10687             35232   \n",
       "mean                5.7234       NaN         NaN               NaN   \n",
       "std                 3.7120       NaN         NaN               NaN   \n",
       "min                 0.0000       NaN         NaN               NaN   \n",
       "25%                 3.0000       NaN         NaN               NaN   \n",
       "50%                 6.0000       NaN         NaN               NaN   \n",
       "75%                 9.0000       NaN         NaN               NaN   \n",
       "max                12.0000       NaN         NaN               NaN   \n",
       "\n",
       "                 ad_created  nr_of_pictures  postal_code            last_seen  \n",
       "count                 50000      50000.0000   50000.0000                50000  \n",
       "unique                   76             nan          nan                39481  \n",
       "top     2016-04-03 00:00:00             nan          nan  2016-04-07 06:17:27  \n",
       "freq                   1946             nan          nan                    8  \n",
       "mean                    NaN          0.0000   50813.6273                  NaN  \n",
       "std                     NaN          0.0000   25779.7480                  NaN  \n",
       "min                     NaN          0.0000    1067.0000                  NaN  \n",
       "25%                     NaN          0.0000   30451.0000                  NaN  \n",
       "50%                     NaN          0.0000   49577.0000                  NaN  \n",
       "75%                     NaN          0.0000   71540.0000                  NaN  \n",
       "max                     NaN          0.0000   99998.0000                  NaN  "
      ]
     },
     "execution_count": 5,
     "metadata": {},
     "output_type": "execute_result"
    }
   ],
   "source": [
    "# describe function with include All parameter to get statistics of non-numerics columns as well\n",
    "autos.describe(include='all')"
   ]
  },
  {
   "cell_type": "markdown",
   "metadata": {},
   "source": [
    "### *Observations based on describe function for autos dataset*\n",
    "\n",
    "* columns - seller, offer_type, abtest,gearbox and unrepaired_damage have only *two unique* values.\n",
    "* column nr_of_pictures has only one value and that is 0, so this column is right candidate to be dropped as it has no real use/impact on analysis of autos dataset.\n",
    "* columns price and odometer provide *numeric data* stored as object, hence are good candidates to be converted float/int dtype.\n",
    "* columns such as registration_year shows *maximum value as 9999*, which may not be meaningful value for analysis. These columns would require conversion from object dtype to date dtype (or datetime as applicable). Also they may require filter/update of data values such as 9999.\n",
    "* the dataset also has null values for certain columns."
   ]
  },
  {
   "cell_type": "markdown",
   "metadata": {},
   "source": [
    "### *Section 4 - Process potential columns for - dtype conversions, update/filter for null and/or non-null values, analysis for redundant/ non-impactful data values, or complete deletion from autos dataset*"
   ]
  },
  {
   "cell_type": "code",
   "execution_count": 6,
   "metadata": {},
   "outputs": [
    {
     "name": "stdout",
     "output_type": "stream",
     "text": [
      "price top 10 rows values\n",
      "0    $5,000\n",
      "1    $8,500\n",
      "2    $8,990\n",
      "3    $4,350\n",
      "4    $1,350\n",
      "5    $7,900\n",
      "6      $300\n",
      "7    $1,990\n",
      "8      $250\n",
      "9      $590\n",
      "Name: price, dtype: object\n",
      "------------------------\n",
      "odometer last 10 rows values\n",
      "49990     30,000km\n",
      "49991    150,000km\n",
      "49992    125,000km\n",
      "49993    150,000km\n",
      "49994    150,000km\n",
      "49995    100,000km\n",
      "49996    150,000km\n",
      "49997      5,000km\n",
      "49998     40,000km\n",
      "49999    150,000km\n",
      "Name: odometer, dtype: object\n"
     ]
    }
   ],
   "source": [
    "# conversion of price and odometer columns\n",
    "print(\"price top 10 rows values\")\n",
    "print(autos[\"price\"].head(10))\n",
    "print(\"------------------------\")\n",
    "print(\"odometer last 10 rows values\")\n",
    "print(autos[\"odometer\"].tail(10))"
   ]
  },
  {
   "cell_type": "markdown",
   "metadata": {},
   "source": [
    "Based on results above following changes need to be made to price and odometer columns:\n",
    "\n",
    "+ **$** and **\",\"** symbols need to be removed from price column to then convert it to int/float.\n",
    "+ the converted column can be renamed to price_USD to indicate price is in US dollars.\n",
    "+ **km** and **\",\"** symbols need to be removed from odometer column to then convert it to int/float.\n",
    "+ the converted column can be renamed to odometer_km to indicate unit in kilometer"
   ]
  },
  {
   "cell_type": "code",
   "execution_count": 7,
   "metadata": {},
   "outputs": [
    {
     "name": "stdout",
     "output_type": "stream",
     "text": [
      "<class 'pandas.core.frame.DataFrame'>\n",
      "RangeIndex: 50000 entries, 0 to 49999\n",
      "Data columns (total 20 columns):\n",
      "date_crawled          50000 non-null object\n",
      "name                  50000 non-null object\n",
      "seller                50000 non-null object\n",
      "offer_type            50000 non-null object\n",
      "price_USD             50000 non-null float64\n",
      "abtest                50000 non-null object\n",
      "vehicle_type          44905 non-null object\n",
      "registration_year     50000 non-null int64\n",
      "gearbox               47320 non-null object\n",
      "power_ps              50000 non-null int64\n",
      "model                 47242 non-null object\n",
      "odometer_km           50000 non-null float64\n",
      "registration_month    50000 non-null int64\n",
      "fuel_type             45518 non-null object\n",
      "brand                 50000 non-null object\n",
      "unrepaired_damage     40171 non-null object\n",
      "ad_created            50000 non-null object\n",
      "nr_of_pictures        50000 non-null int64\n",
      "postal_code           50000 non-null int64\n",
      "last_seen             50000 non-null object\n",
      "dtypes: float64(2), int64(5), object(13)\n",
      "memory usage: 7.6+ MB\n"
     ]
    }
   ],
   "source": [
    "# replace $ and , symbols from price column and convert to float\n",
    "autos[\"price\"] = autos[\"price\"].str.replace(\"$\", \"\").str.replace(\",\", \"\").astype(float)\n",
    "\n",
    "# replace km and , symbols from odometer column and convert to float\n",
    "autos[\"odometer\"] = autos[\"odometer\"].str.replace(\"km\", \"\").str.replace(\",\", \"\").astype(float)\n",
    "\n",
    "# rename price and odometer columns\n",
    "autos.rename(columns={\"price\" : \"price_USD\", \"odometer\" : \"odometer_km\"}, inplace=True)\n",
    "\n",
    "autos.info()"
   ]
  },
  {
   "cell_type": "markdown",
   "metadata": {},
   "source": [
    "Columns price and odometer have been converted from object dtype to float dtype and renamed to price_USD and odometer_km respectively."
   ]
  },
  {
   "cell_type": "code",
   "execution_count": 8,
   "metadata": {},
   "outputs": [
    {
     "name": "stdout",
     "output_type": "stream",
     "text": [
      "Column Name :  Unique Value Count\n",
      "------------------------------------\n",
      "date_crawled : 48213\n",
      "name : 38754\n",
      "seller : 2\n",
      "offer_type : 2\n",
      "price_USD : 2357\n",
      "abtest : 2\n",
      "vehicle_type : 9\n",
      "registration_year : 97\n",
      "gearbox : 3\n",
      "power_ps : 448\n",
      "model : 246\n",
      "odometer_km : 13\n",
      "registration_month : 13\n",
      "fuel_type : 8\n",
      "brand : 40\n",
      "unrepaired_damage : 3\n",
      "ad_created : 76\n",
      "nr_of_pictures : 1\n",
      "postal_code : 7014\n",
      "last_seen : 39481\n",
      "\n",
      "\n",
      "Column Name :  Unique Values\n",
      "-----------------------------------\n",
      "seller : ['privat' 'gewerblich']\n",
      "offer_type : ['Angebot' 'Gesuch']\n",
      "abtest : ['control' 'test']\n",
      "gearbox : ['manuell' 'automatik' nan]\n",
      "unrepaired_damage : ['nein' nan 'ja']\n",
      "nr_of_pictures : [0]\n"
     ]
    }
   ],
   "source": [
    "# analyse unique values in each column of autos dataset\n",
    "print(\"Column Name : \", \"Unique Value Count\")\n",
    "print(\"------------------------------------\")\n",
    "for each_column in autos.columns:\n",
    "    print(each_column, \":\", autos[each_column].unique().shape[0])\n",
    "print('\\n')\n",
    "\n",
    "# explore selective columns further which have only 1-3 unique values\n",
    "print(\"Column Name : \", \"Unique Values\")\n",
    "print(\"-----------------------------------\")\n",
    "selective_list = [\"seller\", \"offer_type\", \"abtest\", \"gearbox\", \"unrepaired_damage\", \"nr_of_pictures\"]\n",
    "for each_name in selective_list:\n",
    "    print(each_name, \":\", autos[each_name].unique())"
   ]
  },
  {
   "cell_type": "markdown",
   "metadata": {},
   "source": [
    "Based on the earlier and above observations nr_of_pictures column is a candidate to be dropped from the autos dataset as the column provides redudant/irrelevant data for analysis."
   ]
  },
  {
   "cell_type": "code",
   "execution_count": 9,
   "metadata": {},
   "outputs": [
    {
     "data": {
      "text/plain": [
       "Index(['date_crawled', 'name', 'seller', 'offer_type', 'price_USD', 'abtest',\n",
       "       'vehicle_type', 'registration_year', 'gearbox', 'power_ps', 'model',\n",
       "       'odometer_km', 'registration_month', 'fuel_type', 'brand',\n",
       "       'unrepaired_damage', 'ad_created', 'postal_code', 'last_seen'],\n",
       "      dtype='object')"
      ]
     },
     "execution_count": 9,
     "metadata": {},
     "output_type": "execute_result"
    }
   ],
   "source": [
    "# delete nr_of_pictures column from autos dataframe\n",
    "del autos[\"nr_of_pictures\"]\n",
    "\n",
    "# review columns present in autos dataset\n",
    "autos.columns"
   ]
  },
  {
   "cell_type": "markdown",
   "metadata": {},
   "source": [
    "### Identify outliers/unusual datavalues in price_USD and odometer_km columns"
   ]
  },
  {
   "cell_type": "code",
   "execution_count": 10,
   "metadata": {},
   "outputs": [
    {
     "name": "stdout",
     "output_type": "stream",
     "text": [
      "price unique shape: 2357\n",
      "odometer unique shape: 13\n",
      "----------------------\n",
      "count      50000.0000\n",
      "mean        9840.0438\n",
      "std       481104.3805\n",
      "min            0.0000\n",
      "25%         1100.0000\n",
      "50%         2950.0000\n",
      "75%         7200.0000\n",
      "max     99999999.0000\n",
      "Name: price_USD, dtype: float64\n",
      "----------------------\n",
      "count    50000.0000\n",
      "mean    125732.7000\n",
      "std      40042.2117\n",
      "min       5000.0000\n",
      "25%     125000.0000\n",
      "50%     150000.0000\n",
      "75%     150000.0000\n",
      "max     150000.0000\n",
      "Name: odometer_km, dtype: float64\n",
      "----------------------\n"
     ]
    }
   ],
   "source": [
    "# display unique value shape for price and odometer\n",
    "print(\"price unique shape:\", autos[\"price_USD\"].unique().shape[0])\n",
    "print(\"odometer unique shape:\", autos[\"odometer_km\"].unique().shape[0])\n",
    "print(\"----------------------\")\n",
    "\n",
    "# describe method for price_USD and odometer_km columns\n",
    "print(autos[\"price_USD\"].describe())\n",
    "print('----------------------')\n",
    "print(autos[\"odometer_km\"].describe())\n",
    "print('----------------------')"
   ]
  },
  {
   "cell_type": "code",
   "execution_count": 11,
   "metadata": {},
   "outputs": [
    {
     "name": "stdout",
     "output_type": "stream",
     "text": [
      "169999.0000      1\n",
      "175000.0000      1\n",
      "180000.0000      1\n",
      "190000.0000      1\n",
      "194000.0000      1\n",
      "197000.0000      1\n",
      "198000.0000      1\n",
      "220000.0000      1\n",
      "250000.0000      1\n",
      "259000.0000      1\n",
      "265000.0000      1\n",
      "295000.0000      1\n",
      "299000.0000      1\n",
      "345000.0000      1\n",
      "350000.0000      1\n",
      "999990.0000      1\n",
      "999999.0000      2\n",
      "1234566.0000     1\n",
      "1300000.0000     1\n",
      "3890000.0000     1\n",
      "10000000.0000    1\n",
      "11111111.0000    2\n",
      "12345678.0000    3\n",
      "27322222.0000    1\n",
      "99999999.0000    1\n",
      "Name: price_USD, dtype: int64\n",
      "-----------------------\n",
      "0.0000     1421\n",
      "1.0000      156\n",
      "2.0000        3\n",
      "3.0000        1\n",
      "5.0000        2\n",
      "8.0000        1\n",
      "9.0000        1\n",
      "10.0000       7\n",
      "11.0000       2\n",
      "12.0000       3\n",
      "13.0000       2\n",
      "14.0000       1\n",
      "15.0000       2\n",
      "17.0000       3\n",
      "18.0000       1\n",
      "20.0000       4\n",
      "25.0000       5\n",
      "29.0000       1\n",
      "30.0000       7\n",
      "35.0000       1\n",
      "40.0000       6\n",
      "45.0000       4\n",
      "47.0000       1\n",
      "49.0000       4\n",
      "50.0000      49\n",
      "Name: price_USD, dtype: int64\n"
     ]
    }
   ],
   "source": [
    "# value count for highest and lowest priced cars\n",
    "print(autos[\"price_USD\"].value_counts().sort_index(ascending=True).tail(25))\n",
    "print(\"-----------------------\")\n",
    "print(autos[\"price_USD\"].value_counts().sort_index(ascending=True).head(25))"
   ]
  },
  {
   "cell_type": "markdown",
   "metadata": {},
   "source": [
    "### *Based on the results of highest and lowest priced cars following observations can be made:*\n",
    "\n",
    "+ the least priced cars have price even below \\$50, with 1400+ cars having \\\\$0 as listed price which is kind of weird!\n",
    "+ there are cars priced way above \\$1 million and are being sold at an auction/resale site which is also unlikely.\n",
    "+ as suggested by project guide, the dataset will be considered with price_USD column to be within threshold values, using the **between** function on dataframe.\n",
    "+ for this project, price column values will be limited between \\$300 and \\\\$350000 USD."
   ]
  },
  {
   "cell_type": "code",
   "execution_count": 12,
   "metadata": {},
   "outputs": [
    {
     "name": "stdout",
     "output_type": "stream",
     "text": [
      "lowest price: 300.0 highest price: 350000.0\n"
     ]
    }
   ],
   "source": [
    "# create price range between 300 and 350000\n",
    "autos = autos[autos[\"price_USD\"].between(300, 350000)]\n",
    "\n",
    "# display lowest and highest values for price_USD column\n",
    "print(\"lowest price:\", autos[\"price_USD\"].min(), \"highest price:\", autos[\"price_USD\"].max())"
   ]
  },
  {
   "cell_type": "code",
   "execution_count": 13,
   "metadata": {},
   "outputs": [
    {
     "name": "stdout",
     "output_type": "stream",
     "text": [
      "5000.0000        689\n",
      "10000.0000       240\n",
      "20000.0000       736\n",
      "30000.0000       771\n",
      "40000.0000       812\n",
      "50000.0000      1003\n",
      "60000.0000      1141\n",
      "70000.0000      1204\n",
      "80000.0000      1401\n",
      "90000.0000      1705\n",
      "100000.0000     2069\n",
      "125000.0000     4953\n",
      "150000.0000    30144\n",
      "Name: odometer_km, dtype: int64\n"
     ]
    }
   ],
   "source": [
    "# value count for highest and lowest odometer_km readings\n",
    "print(autos[\"odometer_km\"].value_counts().sort_index(ascending=True))"
   ]
  },
  {
   "cell_type": "markdown",
   "metadata": {},
   "source": [
    "* the odometer_km column has 5000 and 150000 as the lowest and highest value respectively. 100K reading the datavalues directly shift by 25K.\n",
    "* since 150000 data value is for more 30000 records, this column is being discarded for outliers filter."
   ]
  },
  {
   "cell_type": "markdown",
   "metadata": {},
   "source": [
    "#### *Section 5 - Process columns with date type values represented as other dtype*\n",
    "\n",
    "Following columns contain date type data values, however stored as object/int dtype in autos dataset:\n",
    "\n",
    "* date_crawled\n",
    "* ad_created\n",
    "* last_seen\n",
    "* registration_month\n",
    "* registration_year"
   ]
  },
  {
   "cell_type": "code",
   "execution_count": 14,
   "metadata": {},
   "outputs": [
    {
     "name": "stdout",
     "output_type": "stream",
     "text": [
      "          date_crawled           ad_created            last_seen\n",
      "0  2016-03-26 17:47:46  2016-03-26 00:00:00  2016-04-06 06:45:54\n",
      "1  2016-04-04 13:38:56  2016-04-04 00:00:00  2016-04-06 14:45:08\n",
      "2  2016-03-26 18:57:24  2016-03-26 00:00:00  2016-04-06 20:15:37\n",
      "3  2016-03-12 16:58:10  2016-03-12 00:00:00  2016-03-15 03:16:28\n",
      "4  2016-04-01 14:38:50  2016-04-01 00:00:00  2016-04-01 14:38:50\n"
     ]
    }
   ],
   "source": [
    "# first 5 records from date_crawled, ad_created and last_seen columns\n",
    "print(autos[[\"date_crawled\", \"ad_created\", \"last_seen\"]][0:5])"
   ]
  },
  {
   "cell_type": "markdown",
   "metadata": {},
   "source": [
    "#### Calculation of % wise data distribution for date_crawled, ad_created and last_seen columns"
   ]
  },
  {
   "cell_type": "code",
   "execution_count": 15,
   "metadata": {},
   "outputs": [
    {
     "name": "stdout",
     "output_type": "stream",
     "text": [
      "\u001b[1m% wise data distribution for date_crawled (inclusive of null values, arranged by oldest to newest)\u001b[0m\n",
      "--------------------------------------------------------------------\n",
      "2016-03-05   2.5369\n",
      "2016-03-06   1.4082\n",
      "2016-03-07   3.6208\n",
      "2016-03-08   3.3093\n",
      "2016-03-09   3.2837\n",
      "2016-03-10   3.2474\n",
      "2016-03-11   3.2688\n",
      "2016-03-12   3.7040\n",
      "2016-03-13   1.5640\n",
      "2016-03-14   3.6464\n",
      "2016-03-15   3.4181\n",
      "2016-03-16   2.9466\n",
      "2016-03-17   3.1450\n",
      "2016-03-18   1.2866\n",
      "2016-03-19   3.4693\n",
      "2016-03-20   3.8022\n",
      "2016-03-21   3.7488\n",
      "2016-03-22   3.2922\n",
      "2016-03-23   3.2282\n",
      "2016-03-24   2.9274\n",
      "2016-03-25   3.1279\n",
      "2016-03-26   3.2325\n",
      "2016-03-27   3.1109\n",
      "2016-03-28   3.4992\n",
      "2016-03-29   3.3776\n",
      "2016-03-30   3.3776\n",
      "2016-03-31   3.1919\n",
      "2016-04-01   3.3861\n",
      "2016-04-02   3.5632\n",
      "2016-04-03   3.8619\n",
      "2016-04-04   3.6528\n",
      "2016-04-05   1.3122\n",
      "2016-04-06   0.3158\n",
      "2016-04-07   0.1366\n",
      "Name: date_crawled, dtype: float64\n",
      "\n",
      "\n",
      "\u001b[1m% wise data distribution for date_crawled (inclusive of null values, arranged by highest to lowest)\u001b[0m\n",
      "--------------------------------------------------------------------\n",
      "2016-04-03   3.8619\n",
      "2016-03-20   3.8022\n",
      "2016-03-21   3.7488\n",
      "2016-03-12   3.7040\n",
      "2016-04-04   3.6528\n",
      "2016-03-14   3.6464\n",
      "2016-03-07   3.6208\n",
      "2016-04-02   3.5632\n",
      "2016-03-28   3.4992\n",
      "2016-03-19   3.4693\n",
      "2016-03-15   3.4181\n",
      "2016-04-01   3.3861\n",
      "2016-03-30   3.3776\n",
      "2016-03-29   3.3776\n",
      "2016-03-08   3.3093\n",
      "2016-03-22   3.2922\n",
      "2016-03-09   3.2837\n",
      "2016-03-11   3.2688\n",
      "2016-03-10   3.2474\n",
      "2016-03-26   3.2325\n",
      "2016-03-23   3.2282\n",
      "2016-03-31   3.1919\n",
      "2016-03-17   3.1450\n",
      "2016-03-25   3.1279\n",
      "2016-03-27   3.1109\n",
      "2016-03-16   2.9466\n",
      "2016-03-24   2.9274\n",
      "2016-03-05   2.5369\n",
      "2016-03-13   1.5640\n",
      "2016-03-06   1.4082\n",
      "2016-04-05   1.3122\n",
      "2016-03-18   1.2866\n",
      "2016-04-06   0.3158\n",
      "2016-04-07   0.1366\n",
      "Name: date_crawled, dtype: float64\n"
     ]
    }
   ],
   "source": [
    "print(\"\\033[1m% wise data distribution for date_crawled (inclusive of null values, arranged by oldest to newest)\\033[0m\")\n",
    "print('--------------------------------------------------------------------')\n",
    "print(autos[\"date_crawled\"].str[:10].value_counts(normalize=True,dropna=False).sort_index(ascending=True).mul(100))\n",
    "print('\\n')\n",
    "print(\"\\033[1m% wise data distribution for date_crawled (inclusive of null values, arranged by highest to lowest)\\033[0m\")\n",
    "print('--------------------------------------------------------------------')\n",
    "print(autos[\"date_crawled\"].str[:10].value_counts(normalize=True,dropna=False).sort_values(ascending=False).mul(100))"
   ]
  },
  {
   "cell_type": "markdown",
   "metadata": {},
   "source": [
    "Above results indicate the autos dataset has listings for a period of March 2016 to April 2016. Also barring few months, the distribution for the listings created are similar and fluctuate between 3% to 3.9%."
   ]
  },
  {
   "cell_type": "code",
   "execution_count": 16,
   "metadata": {},
   "outputs": [
    {
     "name": "stdout",
     "output_type": "stream",
     "text": [
      "\u001b[1m% wise data distribution for last_seen (inclusive of null values)\u001b[0m\n",
      "-------------------------------------------------------------------\n",
      "2016-03-05    0.1067\n",
      "2016-03-06    0.4267\n",
      "2016-03-07    0.5355\n",
      "2016-03-08    0.7126\n",
      "2016-03-09    0.9580\n",
      "2016-03-10    1.0455\n",
      "2016-03-11    1.2333\n",
      "2016-03-12    2.3940\n",
      "2016-03-13    0.8855\n",
      "2016-03-14    1.2439\n",
      "2016-03-15    1.5725\n",
      "2016-03-16    1.6152\n",
      "2016-03-17    2.7887\n",
      "2016-03-18    0.7254\n",
      "2016-03-19    1.5512\n",
      "2016-03-20    2.0654\n",
      "2016-03-21    2.0462\n",
      "2016-03-22    2.1486\n",
      "2016-03-23    1.8563\n",
      "2016-03-24    1.9544\n",
      "2016-03-25    1.8904\n",
      "2016-03-26    1.6600\n",
      "2016-03-27    1.5554\n",
      "2016-03-28    2.0910\n",
      "2016-03-29    2.1870\n",
      "2016-03-30    2.4452\n",
      "2016-03-31    2.3833\n",
      "2016-04-01    2.2894\n",
      "2016-04-02    2.4814\n",
      "2016-04-03    2.5092\n",
      "2016-04-04    2.4473\n",
      "2016-04-05   12.5757\n",
      "2016-04-06   22.3287\n",
      "2016-04-07   13.2905\n",
      "Name: last_seen, dtype: float64\n"
     ]
    }
   ],
   "source": [
    "print(\"\\033[1m% wise data distribution for last_seen (inclusive of null values)\\033[0m\")\n",
    "print('-------------------------------------------------------------------')\n",
    "print(autos[\"last_seen\"].str[:10].value_counts(normalize=True,dropna=False).sort_index(ascending=True).mul(100))"
   ]
  },
  {
   "cell_type": "markdown",
   "metadata": {},
   "source": [
    "Percentage wise distribution for last_seen columns suggests that for 3 days in April 2016 ie. 5th, 6th and 7th Apirl, the crawler frequented the listing online. For rest of the days between Mar 2016 and April 2016, the visits to listing were more or less uniform. "
   ]
  },
  {
   "cell_type": "code",
   "execution_count": 17,
   "metadata": {},
   "outputs": [
    {
     "name": "stdout",
     "output_type": "stream",
     "text": [
      "\u001b[1m% wise data distribution for ad_created (inclusive of null values)\u001b[0m\n",
      "-----------------------------------------------------------------------\n",
      "2015-06-11   0.0021\n",
      "2015-08-10   0.0021\n",
      "2015-09-09   0.0021\n",
      "2015-11-10   0.0021\n",
      "2015-12-05   0.0021\n",
      "              ...  \n",
      "2016-04-03   3.8875\n",
      "2016-04-04   3.6870\n",
      "2016-04-05   1.1863\n",
      "2016-04-06   0.3243\n",
      "2016-04-07   0.1216\n",
      "Name: ad_created, Length: 76, dtype: float64\n"
     ]
    }
   ],
   "source": [
    "print(\"\\033[1m% wise data distribution for ad_created (inclusive of null values)\\033[0m\")\n",
    "print('-----------------------------------------------------------------------')\n",
    "print(autos[\"ad_created\"].str[:10].value_counts(normalize=True, dropna=False).sort_index(ascending=True).mul(100))"
   ]
  },
  {
   "cell_type": "markdown",
   "metadata": {},
   "source": [
    "Apparently, the ad_created field comprises of more dates than date_crwaled and last_seen columns."
   ]
  },
  {
   "cell_type": "code",
   "execution_count": 18,
   "metadata": {},
   "outputs": [
    {
     "data": {
      "text/plain": [
       "count   46868.0000\n",
       "mean     2004.8328\n",
       "std        88.0658\n",
       "min      1000.0000\n",
       "25%      1999.0000\n",
       "50%      2004.0000\n",
       "75%      2008.0000\n",
       "max      9999.0000\n",
       "Name: registration_year, dtype: float64"
      ]
     },
     "execution_count": 18,
     "metadata": {},
     "output_type": "execute_result"
    }
   ],
   "source": [
    "autos[\"registration_year\"].describe()"
   ]
  },
  {
   "cell_type": "markdown",
   "metadata": {},
   "source": [
    "The registration year can be considered as the year the car was first purchased, registered and brought on road. However, two values make no sense. Minimum of the column which is 1000 and maximum of the column which 9999. Both the years are outside a valid time frame."
   ]
  },
  {
   "cell_type": "markdown",
   "metadata": {},
   "source": [
    "The dataset needs to be filtered with valid registration year values."
   ]
  },
  {
   "cell_type": "markdown",
   "metadata": {},
   "source": [
    "#### *Section 6 - Process invalid registration years*"
   ]
  },
  {
   "cell_type": "code",
   "execution_count": 19,
   "metadata": {},
   "outputs": [
    {
     "name": "stdout",
     "output_type": "stream",
     "text": [
      "[1000 1001 1111 1800 1910 1927 1929 1931 1934 1937 1938 1939 1941 1943\n",
      " 1948 1950 1951 1952 1953 1954 1955 1956 1957 1958 1959 1960 1961 1962\n",
      " 1963 1964 1965 1966 1967 1968 1969 1970 1971 1972 1973 1974 1975 1976\n",
      " 1977 1978 1979 1980 1981 1982 1983 1984 1985 1986 1987 1988 1989 1990\n",
      " 1991 1992 1993 1994 1995 1996 1997 1998 1999 2000 2001 2002 2003 2004\n",
      " 2005 2006 2007 2008 2009 2010 2011 2012 2013 2014 2015 2016 2017 2018\n",
      " 2019 2800 4100 4500 4800 5000 5911 6200 8888 9000 9999] \n",
      "\n"
     ]
    }
   ],
   "source": [
    "# unique years present in registration year column\n",
    "print(autos[\"registration_year\"].sort_values().unique(), '\\n')"
   ]
  },
  {
   "cell_type": "markdown",
   "metadata": {},
   "source": [
    "Since all the listings of the cars have been created in the year 2016, any car with registration year greater than 2016 is not a valid listing in the autos dataset. Also, the first documented invention of an automobile is in the year 1769. The closest year to that is 1800 in the autos dataset."
   ]
  },
  {
   "cell_type": "markdown",
   "metadata": {},
   "source": [
    "Hence, from the given autos dataset, any registration year prior to 1910 and after 2016 won't make any sense!"
   ]
  },
  {
   "cell_type": "code",
   "execution_count": 20,
   "metadata": {},
   "outputs": [
    {
     "data": {
      "text/plain": [
       "True    96.0741\n",
       "False    3.9259\n",
       "Name: registration_year, dtype: float64"
      ]
     },
     "execution_count": 20,
     "metadata": {},
     "output_type": "execute_result"
    }
   ],
   "source": [
    "# rows that fail outside the 1910 - 2016 bracket\n",
    "autos[\"registration_year\"].between(1910,2016).value_counts(normalize=True).mul(100)"
   ]
  },
  {
   "cell_type": "markdown",
   "metadata": {},
   "source": [
    "Based on the results above, it can be concluded that the listings with invalid registration year i.e. less than 1910 and more than 2016, contribute about 4% of the total autos dataset. Therefore these records can be removed."
   ]
  },
  {
   "cell_type": "code",
   "execution_count": 21,
   "metadata": {},
   "outputs": [
    {
     "name": "stdout",
     "output_type": "stream",
     "text": [
      "Records with valid registration year (1910 to 2016): 45028\n"
     ]
    }
   ],
   "source": [
    "# delete records with registration year less than 1910 and more than 2016\n",
    "autos = autos[autos[\"registration_year\"].between(1910,2016) == True]\n",
    "\n",
    "# display record count of valid registration years\n",
    "print(\"Records with valid registration year (1910 to 2016):\", autos.shape[0])"
   ]
  },
  {
   "cell_type": "markdown",
   "metadata": {},
   "source": [
    "### *Section 7 - Brand wise analysis of used car listings*"
   ]
  },
  {
   "cell_type": "code",
   "execution_count": 22,
   "metadata": {},
   "outputs": [
    {
     "name": "stdout",
     "output_type": "stream",
     "text": [
      "unique brands in autos dataset:\n",
      "-------------------------------\n",
      "['peugeot' 'bmw' 'volkswagen' 'smart' 'ford' 'chrysler' 'renault'\n",
      " 'mercedes_benz' 'audi' 'sonstige_autos' 'opel' 'mazda' 'porsche' 'mini'\n",
      " 'seat' 'toyota' 'dacia' 'nissan' 'jeep' 'saab' 'volvo' 'mitsubishi'\n",
      " 'jaguar' 'fiat' 'skoda' 'subaru' 'kia' 'citroen' 'chevrolet' 'hyundai'\n",
      " 'honda' 'daewoo' 'suzuki' 'trabant' 'land_rover' 'alfa_romeo' 'lada'\n",
      " 'rover' 'daihatsu' 'lancia'] \n",
      "\n",
      "10 most listed brands in autos dataset:\n",
      "---------------------------------------\n",
      "volkswagen      0.2112\n",
      "bmw             0.1124\n",
      "opel            0.1042\n",
      "mercedes_benz   0.0990\n",
      "audi            0.0887\n",
      "ford            0.0673\n",
      "renault         0.0457\n",
      "peugeot         0.0296\n",
      "fiat            0.0248\n",
      "seat            0.0182\n",
      "Name: brand, dtype: float64 \n",
      "\n",
      "Top 10 brands as Index(['volkswagen', 'bmw', 'opel', 'mercedes_benz', 'audi', 'ford', 'renault',\n",
      "       'peugeot', 'fiat', 'seat'],\n",
      "      dtype='object')\n"
     ]
    }
   ],
   "source": [
    "# unique brands in autos dataset\n",
    "print(\"unique brands in autos dataset:\")\n",
    "print(\"-------------------------------\")\n",
    "print(autos[\"brand\"].unique(), '\\n')\n",
    "\n",
    "# 10 most listed brands\n",
    "top_10_listed_brands = autos[\"brand\"].value_counts(normalize=True).head(10)\n",
    "print(\"10 most listed brands in autos dataset:\")\n",
    "print(\"---------------------------------------\")\n",
    "print(top_10_listed_brands, \"\\n\")\n",
    "\n",
    "top_10_listed_brands = autos[\"brand\"].value_counts(normalize=True).head(10).index\n",
    "print(\"Top 10 brands as\", top_10_listed_brands)"
   ]
  },
  {
   "cell_type": "markdown",
   "metadata": {},
   "source": [
    "As indicated by the top 10 brands from the dataset, brand Volkswagen is most prefered one, with about 21% contribution of the total listings. The only american brand in the top 10 is Ford with 6% of listings."
   ]
  },
  {
   "cell_type": "markdown",
   "metadata": {},
   "source": [
    "### Calculation of average price of top 10 brands"
   ]
  },
  {
   "cell_type": "code",
   "execution_count": 23,
   "metadata": {},
   "outputs": [
    {
     "name": "stdout",
     "output_type": "stream",
     "text": [
      "{'volkswagen': 5596, 'bmw': 8456, 'opel': 3172, 'mercedes_benz': 8711, 'audi': 9447, 'ford': 4023, 'renault': 2633, 'peugeot': 3222, 'fiat': 3008, 'seat': 4573} \n",
      "\n",
      "\u001b[1mSorted results for avg price\u001b[0m\n",
      "audi : 9447\n",
      "mercedes_benz : 8711\n",
      "bmw : 8456\n",
      "volkswagen : 5596\n",
      "seat : 4573\n",
      "ford : 4023\n",
      "peugeot : 3222\n",
      "opel : 3172\n",
      "fiat : 3008\n",
      "renault : 2633\n"
     ]
    }
   ],
   "source": [
    "avg_cost_10brands = {}\n",
    "temp_sort_table = []\n",
    "\n",
    "for each_brand in top_10_listed_brands:\n",
    "    brand_price = autos.loc[autos[\"brand\"] == each_brand, [\"brand\", \"price_USD\"]]\n",
    "    avg_cost = brand_price[\"price_USD\"].mean()\n",
    "    avg_cost_10brands[each_brand] = round(avg_cost)\n",
    "    \n",
    "    # steps to sort results in avg cost of top 10 brands in descending order\n",
    "    key_val_combo = (avg_cost_10brands[each_brand], each_brand)\n",
    "    temp_sort_table.append(key_val_combo)\n",
    "    temp_sort_table = sorted(temp_sort_table, reverse=True)\n",
    "    \n",
    "# displaying results for avg price dictionary and it's sorted results\n",
    "print(avg_cost_10brands, \"\\n\")\n",
    "print(\"\\033[1mSorted results for avg price\\033[0m\")\n",
    "for each_val in temp_sort_table:\n",
    "    print(each_val[1], \":\", each_val[0])"
   ]
  },
  {
   "cell_type": "markdown",
   "metadata": {},
   "source": [
    "* With close to 9500 USD as average price per car, ***audi*** brand takes the place of costliest brand among used cars.\n",
    "* The most affordable cars are from ***renault*** and ***flat*** brands.\n",
    "* The german brand ***volkswagen*** could be the best choice when looking for affordability and brandname."
   ]
  },
  {
   "cell_type": "markdown",
   "metadata": {},
   "source": [
    "### Calculation of average mileage of top 10 brands"
   ]
  },
  {
   "cell_type": "code",
   "execution_count": 24,
   "metadata": {},
   "outputs": [
    {
     "name": "stdout",
     "output_type": "stream",
     "text": [
      "{'volkswagen': 128571, 'bmw': 132763, 'opel': 128924, 'mercedes_benz': 131114, 'audi': 129190, 'ford': 123928, 'renault': 127421, 'peugeot': 126604, 'fiat': 116413, 'seat': 121429} \n",
      "\n",
      "\u001b[1mSorted results for avg mileage\u001b[0m\n",
      "bmw : 132763\n",
      "mercedes_benz : 131114\n",
      "audi : 129190\n",
      "opel : 128924\n",
      "volkswagen : 128571\n",
      "renault : 127421\n",
      "peugeot : 126604\n",
      "ford : 123928\n",
      "seat : 121429\n",
      "fiat : 116413\n"
     ]
    }
   ],
   "source": [
    "avg_mil_10brands = {}\n",
    "temp_sort_table = []\n",
    "\n",
    "for each_brand in top_10_listed_brands:\n",
    "    brand_kms = autos.loc[autos[\"brand\"] == each_brand, [\"brand\", \"odometer_km\"]]\n",
    "    avg_kms = brand_kms[\"odometer_km\"].mean()\n",
    "    avg_mil_10brands[each_brand] = round(avg_kms)\n",
    "    \n",
    "    # steps to sort results in avg cost of top 10 brands in descending order\n",
    "    key_val_combo = (avg_mil_10brands[each_brand], each_brand)\n",
    "    temp_sort_table.append(key_val_combo)\n",
    "    temp_sort_table = sorted(temp_sort_table, reverse=True)\n",
    "    \n",
    "# display results for avg mileage dictionary and it's sorted results\n",
    "\n",
    "print(avg_mil_10brands, \"\\n\")\n",
    "print(\"\\033[1mSorted results for avg mileage\\033[0m\")\n",
    "\n",
    "for each_val in temp_sort_table:\n",
    "    print(each_val[1], \":\", each_val[0])"
   ]
  },
  {
   "cell_type": "markdown",
   "metadata": {},
   "source": [
    "### *Section 8 - Finalise analysis and display results for 10 most popular brands on eBay Kleinanzeigen*\n",
    "\n",
    "This section will help in understanding two pandas methods:\n",
    "\n",
    "* pandas series constructor\n",
    "* pandas dataframe constructor"
   ]
  },
  {
   "cell_type": "code",
   "execution_count": 25,
   "metadata": {},
   "outputs": [],
   "source": [
    "# convert average price and average mileage dictionaries into panda series\n",
    "price_sr = pd.Series(avg_cost_10brands)\n",
    "mileage_sr = pd.Series(avg_mil_10brands)\n",
    "\n",
    "# create dataframe from price_sr series\n",
    "top10_brands = pd.DataFrame(price_sr, columns=[\"average_price\"])\n",
    "\n",
    "# add mileage column in top10_brands dataframe\n",
    "top10_brands[\"average_mileage\"] = mileage_sr"
   ]
  },
  {
   "cell_type": "code",
   "execution_count": 26,
   "metadata": {},
   "outputs": [
    {
     "data": {
      "text/html": [
       "<div>\n",
       "<style scoped>\n",
       "    .dataframe tbody tr th:only-of-type {\n",
       "        vertical-align: middle;\n",
       "    }\n",
       "\n",
       "    .dataframe tbody tr th {\n",
       "        vertical-align: top;\n",
       "    }\n",
       "\n",
       "    .dataframe thead th {\n",
       "        text-align: right;\n",
       "    }\n",
       "</style>\n",
       "<table border=\"1\" class=\"dataframe\">\n",
       "  <thead>\n",
       "    <tr style=\"text-align: right;\">\n",
       "      <th></th>\n",
       "      <th>average_price</th>\n",
       "      <th>average_mileage</th>\n",
       "    </tr>\n",
       "  </thead>\n",
       "  <tbody>\n",
       "    <tr>\n",
       "      <td>bmw</td>\n",
       "      <td>8456</td>\n",
       "      <td>132763</td>\n",
       "    </tr>\n",
       "    <tr>\n",
       "      <td>mercedes_benz</td>\n",
       "      <td>8711</td>\n",
       "      <td>131114</td>\n",
       "    </tr>\n",
       "    <tr>\n",
       "      <td>audi</td>\n",
       "      <td>9447</td>\n",
       "      <td>129190</td>\n",
       "    </tr>\n",
       "    <tr>\n",
       "      <td>opel</td>\n",
       "      <td>3172</td>\n",
       "      <td>128924</td>\n",
       "    </tr>\n",
       "    <tr>\n",
       "      <td>volkswagen</td>\n",
       "      <td>5596</td>\n",
       "      <td>128571</td>\n",
       "    </tr>\n",
       "    <tr>\n",
       "      <td>renault</td>\n",
       "      <td>2633</td>\n",
       "      <td>127421</td>\n",
       "    </tr>\n",
       "    <tr>\n",
       "      <td>peugeot</td>\n",
       "      <td>3222</td>\n",
       "      <td>126604</td>\n",
       "    </tr>\n",
       "    <tr>\n",
       "      <td>ford</td>\n",
       "      <td>4023</td>\n",
       "      <td>123928</td>\n",
       "    </tr>\n",
       "    <tr>\n",
       "      <td>seat</td>\n",
       "      <td>4573</td>\n",
       "      <td>121429</td>\n",
       "    </tr>\n",
       "    <tr>\n",
       "      <td>fiat</td>\n",
       "      <td>3008</td>\n",
       "      <td>116413</td>\n",
       "    </tr>\n",
       "  </tbody>\n",
       "</table>\n",
       "</div>"
      ],
      "text/plain": [
       "               average_price  average_mileage\n",
       "bmw                     8456           132763\n",
       "mercedes_benz           8711           131114\n",
       "audi                    9447           129190\n",
       "opel                    3172           128924\n",
       "volkswagen              5596           128571\n",
       "renault                 2633           127421\n",
       "peugeot                 3222           126604\n",
       "ford                    4023           123928\n",
       "seat                    4573           121429\n",
       "fiat                    3008           116413"
      ]
     },
     "execution_count": 26,
     "metadata": {},
     "output_type": "execute_result"
    }
   ],
   "source": [
    "# display top_10brands dataframe sorted on descending average mileage\n",
    "top10_brands.sort_values([\"average_mileage\"], ascending=False)"
   ]
  },
  {
   "cell_type": "markdown",
   "metadata": {},
   "source": [
    "The dataframe top10_brands displays the 10 most preferred brands, the average price and average mileage for all the cars listed under the brand from the autos dataset.\n",
    "\n",
    "* for being the most expensive car brand by average price, mileage of ***audi*** is at still lower to that of ***bmw*** and ***mercedes_benz***\n",
    "* except for the cars from and ***peugeot***, ***renault*** and ***opel***, the difference in average mileage is similar to the average price differences between the other brands.\n",
    "* in case of ***opel*** and ***renault***, the average mileage was significant and comparable to the brand ***volkswagen*** considering their average price was below ***volkswagen***."
   ]
  },
  {
   "cell_type": "markdown",
   "metadata": {},
   "source": [
    "### *Section 9 - Additional next steps*"
   ]
  },
  {
   "cell_type": "markdown",
   "metadata": {},
   "source": [
    "### *Part A - Data cleaning next steps:*\n",
    "\n",
    "* Identify categorical data that uses german words, translate them and map the values to their english counterparts.\n",
    "* Convert the dates to be uniform numeric data, so \"2016-03-21\" becomes the integer 20160321.\n",
    "* See if there are particular keywords in the name column that you can extract as new columns.(tried and skipped)"
   ]
  },
  {
   "cell_type": "markdown",
   "metadata": {},
   "source": [
    "### *Part B - Analysis next steps:*\n",
    "\n",
    "* Find the most common brand/model combinations.\n",
    "* Split the odometer_km into groups, and use aggregation to see if average prices follows any patterns based on the milage.\n",
    "* How much cheaper are cars with damage than their non-damaged counterparts?"
   ]
  },
  {
   "cell_type": "markdown",
   "metadata": {},
   "source": [
    "### Explore categorical columns from autos dataset to look for german language words and convert them to English\n",
    "\n",
    "(Column model has been skipped for this section.)"
   ]
  },
  {
   "cell_type": "code",
   "execution_count": 27,
   "metadata": {},
   "outputs": [
    {
     "name": "stdout",
     "output_type": "stream",
     "text": [
      "seller : ['privat'] \n",
      "\n",
      "offer_type : ['Angebot'] \n",
      "\n",
      "vehicle_type : ['bus' 'limousine' 'kleinwagen' 'kombi' nan 'coupe' 'suv' 'cabrio'\n",
      " 'andere'] \n",
      "\n",
      "gearbox : ['manuell' 'automatik' nan] \n",
      "\n",
      "fuel_type : ['lpg' 'benzin' 'diesel' nan 'cng' 'hybrid' 'elektro' 'andere'] \n",
      "\n",
      "unrepaired_damage : ['nein' nan 'ja'] \n",
      "\n"
     ]
    }
   ],
   "source": [
    "# unique values from categorical info columns (excludes column model)\n",
    "column_list = [\"seller\", \"offer_type\", \"vehicle_type\", \"gearbox\", \"fuel_type\", \"unrepaired_damage\"]\n",
    "for each_col in column_list:\n",
    "    print(each_col, \":\", autos[each_col].unique(), \"\\n\")"
   ]
  },
  {
   "cell_type": "code",
   "execution_count": 28,
   "metadata": {},
   "outputs": [],
   "source": [
    "# create a mapping dictionary to map the german words to their respective english translations\n",
    "ger_to_eng_map = { \n",
    "    # for seller column\n",
    "    \"privat\":\"private\", \"gewerblich\":\"commercial\",\n",
    "\n",
    "    # for offer type column\n",
    "    \"Angebot\": \"special offer\", \"Gesuch\":\"application\",\n",
    "\n",
    "    # for vehicle type column\n",
    "    \"bus\":\"bus\", \"limousine\":\"sedan\", \"kleinwagen\":\"small car\", \"kombi\":\"combination\",\n",
    "    \"coupe\":\"coupe\", \"suv\":\"suv\", \"cabrio\":\"convertible\",\n",
    "\n",
    "    # for gearbox column\n",
    "    \"manuell\":\"manual\", \"automatik\":\"automatic\",\n",
    "\n",
    "    # for fuel type column\n",
    "    \"lpg\":\"lpg\", \"benzin\":\"petrol\", \"diesel\":\"diesel\", \"cng\":\"cng\", \"hybrid\":\"hybrid\", \n",
    "    \"elektro\":\"electric\", \"andere\":\"others\",\n",
    "\n",
    "    # for unrepaired damage column\n",
    "    \"nein\":\"no\", \"ja\":\"yes\"\n",
    "}"
   ]
  },
  {
   "cell_type": "code",
   "execution_count": 29,
   "metadata": {},
   "outputs": [
    {
     "name": "stdout",
     "output_type": "stream",
     "text": [
      "seller : ['private'] \n",
      "\n",
      "offer_type : ['special offer'] \n",
      "\n",
      "vehicle_type : ['bus' 'sedan' 'small car' 'combination' nan 'coupe' 'suv' 'convertible'\n",
      " 'others'] \n",
      "\n",
      "gearbox : ['manual' 'automatic' nan] \n",
      "\n",
      "fuel_type : ['lpg' 'petrol' 'diesel' nan 'cng' 'hybrid' 'electric' 'others'] \n",
      "\n",
      "unrepaired_damage : ['no' nan 'yes'] \n",
      "\n"
     ]
    }
   ],
   "source": [
    "# map german keywords with english keywords and update respective columns in autos dataset\n",
    "for each_col in column_list:\n",
    "    autos[each_col] = autos[each_col].map(ger_to_eng_map)\n",
    "    \n",
    "    print(each_col, \":\", autos[each_col].unique(), \"\\n\")"
   ]
  },
  {
   "cell_type": "markdown",
   "metadata": {},
   "source": [
    "### *Update date formats from yyyy-mm-dd hh:mm:ss to yyyyddmm and convert date values as int dtype*"
   ]
  },
  {
   "cell_type": "code",
   "execution_count": 31,
   "metadata": {},
   "outputs": [
    {
     "name": "stdout",
     "output_type": "stream",
     "text": [
      "      \u001b[1m before date formatting and conversion \u001b[0m       \n",
      "          date_crawled           ad_created            last_seen\n",
      "0  2016-03-26 17:47:46  2016-03-26 00:00:00  2016-04-06 06:45:54\n",
      "1  2016-04-04 13:38:56  2016-04-04 00:00:00  2016-04-06 14:45:08\n",
      "2  2016-03-26 18:57:24  2016-03-26 00:00:00  2016-04-06 20:15:37\n",
      "3  2016-03-12 16:58:10  2016-03-12 00:00:00  2016-03-15 03:16:28\n",
      "4  2016-04-01 14:38:50  2016-04-01 00:00:00  2016-04-01 14:38:50\n",
      "\n",
      "\n",
      "\u001b[1m after date formatting and conversion \u001b[0m\n",
      "   date_crawled  ad_created  last_seen\n",
      "0      20160326    20160326   20160406\n",
      "1      20160404    20160404   20160406\n",
      "2      20160326    20160326   20160406\n",
      "3      20160312    20160312   20160315\n",
      "4      20160401    20160401   20160401\n"
     ]
    }
   ],
   "source": [
    "# display date columns sample data before update\n",
    "print(str(\"\\33[1m before date formatting and conversion \\33[0m\").center(60))\n",
    "print(autos[[\"date_crawled\", \"ad_created\", \"last_seen\"]].head())\n",
    "print(\"\\n\")\n",
    "\n",
    "# update date columns format and convert to int type\n",
    "autos[\"date_crawled\"] = autos[\"date_crawled\"].str.split(\" \").str[0].str.replace(\"-\", \"\").astype(int)\n",
    "autos[\"ad_created\"] = autos[\"ad_created\"].str.split(\" \").str[0].str.replace(\"-\", \"\").astype(int)\n",
    "autos[\"last_seen\"] = autos[\"last_seen\"].str.split(\" \").str[0].str.replace(\"-\", \"\").astype(int)\n",
    "\n",
    "# display date columns sample data after update\n",
    "print(\"\\33[1m after date formatting and conversion \\33[0m\")\n",
    "print(autos[[\"date_crawled\", \"ad_created\", \"last_seen\"]].head())"
   ]
  },
  {
   "cell_type": "markdown",
   "metadata": {},
   "source": [
    "### Most common brand - model combinations\n",
    "\n",
    "This section excludes null values in the model column of the autos dataset. Also, for the brand ***sonstige_autos***, the model column is full of null values in the dataset. Hence, for this section brand ***sonstige_autos*** has been completely omitted."
   ]
  },
  {
   "cell_type": "code",
   "execution_count": 32,
   "metadata": {},
   "outputs": [
    {
     "name": "stdout",
     "output_type": "stream",
     "text": [
      "\u001b[1m Most common brand - model combination \u001b[0m\n",
      "---------------------------------------\n",
      "peugeot - 2_reihe\n",
      "bmw - 3er\n",
      "volkswagen - golf\n",
      "smart - fortwo\n",
      "ford - focus\n",
      "chrysler - andere\n",
      "renault - twingo\n",
      "mercedes_benz - c_klasse\n",
      "audi - a4\n",
      "opel - corsa\n",
      "mazda - 6_reihe\n",
      "porsche - 911\n",
      "mini - cooper\n",
      "seat - ibiza\n",
      "toyota - yaris\n",
      "dacia - sandero\n",
      "nissan - micra\n",
      "jeep - grand\n",
      "saab - andere\n",
      "volvo - v70\n",
      "mitsubishi - colt\n",
      "jaguar - andere\n",
      "fiat - punto\n",
      "skoda - octavia\n",
      "subaru - legacy\n",
      "kia - andere\n",
      "citroen - andere\n",
      "chevrolet - andere\n",
      "hyundai - i_reihe\n",
      "honda - civic\n",
      "daewoo - matiz\n",
      "suzuki - andere\n",
      "trabant - 601\n",
      "land_rover - freelander\n",
      "alfa_romeo - 156\n",
      "lada - niva\n",
      "rover - andere\n",
      "daihatsu - cuore\n",
      "lancia - ypsilon\n"
     ]
    }
   ],
   "source": [
    "# brand name list in autos dataset\n",
    "brand_list = autos[\"brand\"].unique()\n",
    "\n",
    "# dictionary to store brand name and model name combinations\n",
    "brand_model = {}\n",
    "\n",
    "# identigy most common model listed for a given brand in autos dataset\n",
    "for each_brand in brand_list:\n",
    "    # exclude brand \"sonstige_autos\" from brand model combination\n",
    "    if each_brand != \"sonstige_autos\":\n",
    "        model_name = (autos.loc[autos[\"brand\"] == each_brand, \"model\"].value_counts(dropna=True).sort_values(ascending=False).head(1).index[0])\n",
    "        brand_model[each_brand] = model_name\n",
    "        \n",
    "# display result of brand model combination\n",
    "print(\"\\33[1m Most common brand - model combination \\33[0m\")\n",
    "print(\"---------------------------------------\")\n",
    "\n",
    "for each_brand in brand_model:\n",
    "    print(each_brand, \"-\", brand_model[each_brand])"
   ]
  },
  {
   "cell_type": "markdown",
   "metadata": {},
   "source": [
    "### Average price variations based on distance travelled"
   ]
  },
  {
   "cell_type": "code",
   "execution_count": 34,
   "metadata": {},
   "outputs": [
    {
     "name": "stdout",
     "output_type": "stream",
     "text": [
      "Average price of used cars based on distance travelled\n",
      "------------------------------------------------------\n",
      "distance travelled below 30000 kms: 16321\n",
      "distance travelled between 40000 - 70000 kms: 13035\n",
      "distance travelled between 80000 - 100000 kms: 8812\n",
      "distance travelled above 100000 kms: 4265\n"
     ]
    }
   ],
   "source": [
    "# identify unique results of odometer_kms column\n",
    "autos[\"odometer_km\"].value_counts().sort_index()\n",
    "\n",
    "# set-up four ranges of kms covered by the used cars in autos dataset\n",
    "kms_below_30K_avgUSD = autos.loc[autos[\"odometer_km\"] <= 30000, \"price_USD\"].mean()\n",
    "kms_40K_70K_avgUSD = autos.loc[autos[\"odometer_km\"].between(40000, 70000), \"price_USD\"].mean()\n",
    "kms_80K_100K_avgUSD = autos.loc[autos[\"odometer_km\"].between(80000, 100000), \"price_USD\"].mean()\n",
    "kms_above_100K_avgUSD = autos.loc[autos[\"odometer_km\"] > 100000, \"price_USD\"].mean()\n",
    "\n",
    "# display results of average price by kms covered\n",
    "print(\"Average price of used cars based on distance travelled\")\n",
    "print('------------------------------------------------------')\n",
    "print(\"distance travelled below 30000 kms:\", int(kms_below_30K_avgUSD))\n",
    "print(\"distance travelled between 40000 - 70000 kms:\", int(kms_40K_70K_avgUSD))\n",
    "print(\"distance travelled between 80000 - 100000 kms:\", int(kms_80K_100K_avgUSD))\n",
    "print(\"distance travelled above 100000 kms:\", int(kms_above_100K_avgUSD))"
   ]
  },
  {
   "cell_type": "markdown",
   "metadata": {},
   "source": [
    "*Average price of the cars listed, decline as the distance travelled by the cars increases.*"
   ]
  },
  {
   "cell_type": "markdown",
   "metadata": {},
   "source": [
    "### Comparison between average price of cars with damage and cars without damage"
   ]
  },
  {
   "cell_type": "code",
   "execution_count": 35,
   "metadata": {},
   "outputs": [
    {
     "name": "stdout",
     "output_type": "stream",
     "text": [
      "no     33490\n",
      "NaN     7484\n",
      "yes     4054\n",
      "Name: unrepaired_damage, dtype: int64 \n",
      "\n",
      "average price of cars without damage: 7235\n",
      "average price of cars with damage 2488\n"
     ]
    }
   ],
   "source": [
    "# record count of cars with and without damage\n",
    "print(autos[\"unrepaired_damage\"].value_counts(dropna=False), \"\\n\")\n",
    "\n",
    "no_damage_avg_price = autos.loc[autos[\"unrepaired_damage\"] == \"no\", \"price_USD\"].mean()\n",
    "print(\"average price of cars without damage:\", int(no_damage_avg_price))\n",
    "\n",
    "damage_avg_price = autos.loc[autos[\"unrepaired_damage\"] == \"yes\", \"price_USD\"].mean()\n",
    "print(\"average price of cars with damage\", int(damage_avg_price))"
   ]
  },
  {
   "cell_type": "code",
   "execution_count": 36,
   "metadata": {},
   "outputs": [
    {
     "name": "stdout",
     "output_type": "stream",
     "text": [
      "\u001b[1mDamaged cars cost 2.9075 times lesser than Non-damaged cars. \u001b[0m\n"
     ]
    }
   ],
   "source": [
    "print(\"\\33[1mDamaged cars cost\", round(no_damage_avg_price/damage_avg_price, 4), \"times lesser than Non-damaged cars. \\33[0m\")"
   ]
  },
  {
   "cell_type": "code",
   "execution_count": null,
   "metadata": {},
   "outputs": [],
   "source": []
  }
 ],
 "metadata": {
  "kernelspec": {
   "display_name": "Python 3",
   "language": "python",
   "name": "python3"
  },
  "language_info": {
   "codemirror_mode": {
    "name": "ipython",
    "version": 3
   },
   "file_extension": ".py",
   "mimetype": "text/x-python",
   "name": "python",
   "nbconvert_exporter": "python",
   "pygments_lexer": "ipython3",
   "version": "3.7.4"
  }
 },
 "nbformat": 4,
 "nbformat_minor": 2
}
